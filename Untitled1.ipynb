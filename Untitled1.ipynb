{
  "nbformat": 4,
  "nbformat_minor": 0,
  "metadata": {
    "colab": {
      "provenance": []
    },
    "kernelspec": {
      "name": "python3",
      "display_name": "Python 3"
    },
    "language_info": {
      "name": "python"
    }
  },
  "cells": [
    {
      "cell_type": "code",
      "execution_count": null,
      "metadata": {
        "id": "5SlPHhiOSd8v"
      },
      "outputs": [],
      "source": [
        "[ ] # Model_latest Description: This program classifies a person by having various tems in medical."
      ]
    },
    {
      "cell_type": "markdown",
      "source": [
        " # import libraries\n",
        " import numpy as np\n",
        " import pandas as pd\n",
        " import seaborn as sns"
      ],
      "metadata": {
        "id": "IVWUIzIwTZ4J"
      }
    },
    {
      "cell_type": "code",
      "source": [
        "#preprocessing the data\n",
        "import csv\n",
        "import pickle\n",
        "import re\n",
        "import warnings\n",
        "import numpy as np\n",
        "import pandas as pd\n",
        "from sklearn.metrics import accuracy_score , precision_recall_fscore_support\n",
        "from sklearn.model_selection import train_test_split, cross_val_score\n",
        "from statistics import mean\n",
        "from nltk .corpus import wordnet\n",
        "import requests\n",
        "from nltk.corpus import stopwords\n",
        "from nltk.stem import WordNetLemmatizer\n",
        "from itertools import combinations\n",
        "from time import time\n",
        "from nltk.tokenize import RegexpTokenizer\n",
        "import operator\n",
        "from xgboost import XGBClassifier\n",
        "import math\n",
        "import joblib\n",
        "from sklearn.linear_model import LogisticRegression\n",
        "from collections import OrderedDict\n",
        "\n"
      ],
      "metadata": {
        "id": "zikyLmKdUbDH",
        "collapsed": true
      },
      "execution_count": null,
      "outputs": []
    },
    {
      "cell_type": "markdown",
      "source": [],
      "metadata": {
        "id": "v4HMpfyojlB7"
      }
    },
    {
      "cell_type": "code",
      "source": [
        "import nltk\n",
        "nltk.download('all')"
      ],
      "metadata": {
        "id": "uwHKFajuSZh-",
        "colab": {
          "base_uri": "https://localhost:8080/"
        },
        "outputId": "a631d0b1-a6bf-45b7-ed9a-4fb4f96ec6af"
      },
      "execution_count": null,
      "outputs": [
        {
          "output_type": "stream",
          "name": "stderr",
          "text": [
            "[nltk_data] Downloading collection 'all'\n",
            "[nltk_data]    | \n",
            "[nltk_data]    | Downloading package abc to /root/nltk_data...\n",
            "[nltk_data]    |   Unzipping corpora/abc.zip.\n",
            "[nltk_data]    | Downloading package alpino to /root/nltk_data...\n",
            "[nltk_data]    |   Unzipping corpora/alpino.zip.\n",
            "[nltk_data]    | Downloading package averaged_perceptron_tagger to\n",
            "[nltk_data]    |     /root/nltk_data...\n",
            "[nltk_data]    |   Unzipping taggers/averaged_perceptron_tagger.zip.\n",
            "[nltk_data]    | Downloading package averaged_perceptron_tagger_ru to\n",
            "[nltk_data]    |     /root/nltk_data...\n",
            "[nltk_data]    |   Unzipping\n",
            "[nltk_data]    |       taggers/averaged_perceptron_tagger_ru.zip.\n",
            "[nltk_data]    | Downloading package basque_grammars to\n",
            "[nltk_data]    |     /root/nltk_data...\n",
            "[nltk_data]    |   Unzipping grammars/basque_grammars.zip.\n",
            "[nltk_data]    | Downloading package bcp47 to /root/nltk_data...\n",
            "[nltk_data]    | Downloading package biocreative_ppi to\n",
            "[nltk_data]    |     /root/nltk_data...\n",
            "[nltk_data]    |   Unzipping corpora/biocreative_ppi.zip.\n",
            "[nltk_data]    | Downloading package bllip_wsj_no_aux to\n",
            "[nltk_data]    |     /root/nltk_data...\n",
            "[nltk_data]    |   Unzipping models/bllip_wsj_no_aux.zip.\n",
            "[nltk_data]    | Downloading package book_grammars to\n",
            "[nltk_data]    |     /root/nltk_data...\n",
            "[nltk_data]    |   Unzipping grammars/book_grammars.zip.\n",
            "[nltk_data]    | Downloading package brown to /root/nltk_data...\n",
            "[nltk_data]    |   Unzipping corpora/brown.zip.\n",
            "[nltk_data]    | Downloading package brown_tei to /root/nltk_data...\n",
            "[nltk_data]    |   Unzipping corpora/brown_tei.zip.\n",
            "[nltk_data]    | Downloading package cess_cat to /root/nltk_data...\n",
            "[nltk_data]    |   Unzipping corpora/cess_cat.zip.\n",
            "[nltk_data]    | Downloading package cess_esp to /root/nltk_data...\n",
            "[nltk_data]    |   Unzipping corpora/cess_esp.zip.\n",
            "[nltk_data]    | Downloading package chat80 to /root/nltk_data...\n",
            "[nltk_data]    |   Unzipping corpora/chat80.zip.\n",
            "[nltk_data]    | Downloading package city_database to\n",
            "[nltk_data]    |     /root/nltk_data...\n",
            "[nltk_data]    |   Unzipping corpora/city_database.zip.\n",
            "[nltk_data]    | Downloading package cmudict to /root/nltk_data...\n",
            "[nltk_data]    |   Unzipping corpora/cmudict.zip.\n",
            "[nltk_data]    | Downloading package comparative_sentences to\n",
            "[nltk_data]    |     /root/nltk_data...\n",
            "[nltk_data]    |   Unzipping corpora/comparative_sentences.zip.\n",
            "[nltk_data]    | Downloading package comtrans to /root/nltk_data...\n",
            "[nltk_data]    | Downloading package conll2000 to /root/nltk_data...\n",
            "[nltk_data]    |   Unzipping corpora/conll2000.zip.\n",
            "[nltk_data]    | Downloading package conll2002 to /root/nltk_data...\n",
            "[nltk_data]    |   Unzipping corpora/conll2002.zip.\n",
            "[nltk_data]    | Downloading package conll2007 to /root/nltk_data...\n",
            "[nltk_data]    | Downloading package crubadan to /root/nltk_data...\n",
            "[nltk_data]    |   Unzipping corpora/crubadan.zip.\n",
            "[nltk_data]    | Downloading package dependency_treebank to\n",
            "[nltk_data]    |     /root/nltk_data...\n",
            "[nltk_data]    |   Unzipping corpora/dependency_treebank.zip.\n",
            "[nltk_data]    | Downloading package dolch to /root/nltk_data...\n",
            "[nltk_data]    |   Unzipping corpora/dolch.zip.\n",
            "[nltk_data]    | Downloading package europarl_raw to\n",
            "[nltk_data]    |     /root/nltk_data...\n",
            "[nltk_data]    |   Unzipping corpora/europarl_raw.zip.\n",
            "[nltk_data]    | Downloading package extended_omw to\n",
            "[nltk_data]    |     /root/nltk_data...\n",
            "[nltk_data]    | Downloading package floresta to /root/nltk_data...\n",
            "[nltk_data]    |   Unzipping corpora/floresta.zip.\n",
            "[nltk_data]    | Downloading package framenet_v15 to\n",
            "[nltk_data]    |     /root/nltk_data...\n",
            "[nltk_data]    |   Unzipping corpora/framenet_v15.zip.\n",
            "[nltk_data]    | Downloading package framenet_v17 to\n",
            "[nltk_data]    |     /root/nltk_data...\n",
            "[nltk_data]    |   Unzipping corpora/framenet_v17.zip.\n",
            "[nltk_data]    | Downloading package gazetteers to /root/nltk_data...\n",
            "[nltk_data]    |   Unzipping corpora/gazetteers.zip.\n",
            "[nltk_data]    | Downloading package genesis to /root/nltk_data...\n",
            "[nltk_data]    |   Unzipping corpora/genesis.zip.\n",
            "[nltk_data]    | Downloading package gutenberg to /root/nltk_data...\n",
            "[nltk_data]    |   Unzipping corpora/gutenberg.zip.\n",
            "[nltk_data]    | Downloading package ieer to /root/nltk_data...\n",
            "[nltk_data]    |   Unzipping corpora/ieer.zip.\n",
            "[nltk_data]    | Downloading package inaugural to /root/nltk_data...\n",
            "[nltk_data]    |   Unzipping corpora/inaugural.zip.\n",
            "[nltk_data]    | Downloading package indian to /root/nltk_data...\n",
            "[nltk_data]    |   Unzipping corpora/indian.zip.\n",
            "[nltk_data]    | Downloading package jeita to /root/nltk_data...\n",
            "[nltk_data]    | Downloading package kimmo to /root/nltk_data...\n",
            "[nltk_data]    |   Unzipping corpora/kimmo.zip.\n",
            "[nltk_data]    | Downloading package knbc to /root/nltk_data...\n",
            "[nltk_data]    | Downloading package large_grammars to\n",
            "[nltk_data]    |     /root/nltk_data...\n",
            "[nltk_data]    |   Unzipping grammars/large_grammars.zip.\n",
            "[nltk_data]    | Downloading package lin_thesaurus to\n",
            "[nltk_data]    |     /root/nltk_data...\n",
            "[nltk_data]    |   Unzipping corpora/lin_thesaurus.zip.\n",
            "[nltk_data]    | Downloading package mac_morpho to /root/nltk_data...\n",
            "[nltk_data]    |   Unzipping corpora/mac_morpho.zip.\n",
            "[nltk_data]    | Downloading package machado to /root/nltk_data...\n",
            "[nltk_data]    | Downloading package masc_tagged to /root/nltk_data...\n",
            "[nltk_data]    | Downloading package maxent_ne_chunker to\n",
            "[nltk_data]    |     /root/nltk_data...\n",
            "[nltk_data]    |   Unzipping chunkers/maxent_ne_chunker.zip.\n",
            "[nltk_data]    | Downloading package maxent_treebank_pos_tagger to\n",
            "[nltk_data]    |     /root/nltk_data...\n",
            "[nltk_data]    |   Unzipping taggers/maxent_treebank_pos_tagger.zip.\n",
            "[nltk_data]    | Downloading package moses_sample to\n",
            "[nltk_data]    |     /root/nltk_data...\n",
            "[nltk_data]    |   Unzipping models/moses_sample.zip.\n",
            "[nltk_data]    | Downloading package movie_reviews to\n",
            "[nltk_data]    |     /root/nltk_data...\n",
            "[nltk_data]    |   Unzipping corpora/movie_reviews.zip.\n",
            "[nltk_data]    | Downloading package mte_teip5 to /root/nltk_data...\n",
            "[nltk_data]    |   Unzipping corpora/mte_teip5.zip.\n",
            "[nltk_data]    | Downloading package mwa_ppdb to /root/nltk_data...\n",
            "[nltk_data]    |   Unzipping misc/mwa_ppdb.zip.\n",
            "[nltk_data]    | Downloading package names to /root/nltk_data...\n",
            "[nltk_data]    |   Unzipping corpora/names.zip.\n",
            "[nltk_data]    | Downloading package nombank.1.0 to /root/nltk_data...\n",
            "[nltk_data]    | Downloading package nonbreaking_prefixes to\n",
            "[nltk_data]    |     /root/nltk_data...\n",
            "[nltk_data]    |   Unzipping corpora/nonbreaking_prefixes.zip.\n",
            "[nltk_data]    | Downloading package nps_chat to /root/nltk_data...\n",
            "[nltk_data]    |   Unzipping corpora/nps_chat.zip.\n",
            "[nltk_data]    | Downloading package omw to /root/nltk_data...\n",
            "[nltk_data]    | Downloading package omw-1.4 to /root/nltk_data...\n",
            "[nltk_data]    | Downloading package opinion_lexicon to\n",
            "[nltk_data]    |     /root/nltk_data...\n",
            "[nltk_data]    |   Unzipping corpora/opinion_lexicon.zip.\n",
            "[nltk_data]    | Downloading package panlex_swadesh to\n",
            "[nltk_data]    |     /root/nltk_data...\n",
            "[nltk_data]    | Downloading package paradigms to /root/nltk_data...\n",
            "[nltk_data]    |   Unzipping corpora/paradigms.zip.\n",
            "[nltk_data]    | Downloading package pe08 to /root/nltk_data...\n",
            "[nltk_data]    |   Unzipping corpora/pe08.zip.\n",
            "[nltk_data]    | Downloading package perluniprops to\n",
            "[nltk_data]    |     /root/nltk_data...\n",
            "[nltk_data]    |   Unzipping misc/perluniprops.zip.\n",
            "[nltk_data]    | Downloading package pil to /root/nltk_data...\n",
            "[nltk_data]    |   Unzipping corpora/pil.zip.\n",
            "[nltk_data]    | Downloading package pl196x to /root/nltk_data...\n",
            "[nltk_data]    |   Unzipping corpora/pl196x.zip.\n",
            "[nltk_data]    | Downloading package porter_test to /root/nltk_data...\n",
            "[nltk_data]    |   Unzipping stemmers/porter_test.zip.\n",
            "[nltk_data]    | Downloading package ppattach to /root/nltk_data...\n",
            "[nltk_data]    |   Unzipping corpora/ppattach.zip.\n",
            "[nltk_data]    | Downloading package problem_reports to\n",
            "[nltk_data]    |     /root/nltk_data...\n",
            "[nltk_data]    |   Unzipping corpora/problem_reports.zip.\n",
            "[nltk_data]    | Downloading package product_reviews_1 to\n",
            "[nltk_data]    |     /root/nltk_data...\n",
            "[nltk_data]    |   Unzipping corpora/product_reviews_1.zip.\n",
            "[nltk_data]    | Downloading package product_reviews_2 to\n",
            "[nltk_data]    |     /root/nltk_data...\n",
            "[nltk_data]    |   Unzipping corpora/product_reviews_2.zip.\n",
            "[nltk_data]    | Downloading package propbank to /root/nltk_data...\n",
            "[nltk_data]    | Downloading package pros_cons to /root/nltk_data...\n",
            "[nltk_data]    |   Unzipping corpora/pros_cons.zip.\n",
            "[nltk_data]    | Downloading package ptb to /root/nltk_data...\n",
            "[nltk_data]    |   Unzipping corpora/ptb.zip.\n",
            "[nltk_data]    | Downloading package punkt to /root/nltk_data...\n",
            "[nltk_data]    |   Unzipping tokenizers/punkt.zip.\n",
            "[nltk_data]    | Downloading package qc to /root/nltk_data...\n",
            "[nltk_data]    |   Unzipping corpora/qc.zip.\n",
            "[nltk_data]    | Downloading package reuters to /root/nltk_data...\n",
            "[nltk_data]    | Downloading package rslp to /root/nltk_data...\n",
            "[nltk_data]    |   Unzipping stemmers/rslp.zip.\n",
            "[nltk_data]    | Downloading package rte to /root/nltk_data...\n",
            "[nltk_data]    |   Unzipping corpora/rte.zip.\n",
            "[nltk_data]    | Downloading package sample_grammars to\n",
            "[nltk_data]    |     /root/nltk_data...\n",
            "[nltk_data]    |   Unzipping grammars/sample_grammars.zip.\n",
            "[nltk_data]    | Downloading package semcor to /root/nltk_data...\n",
            "[nltk_data]    | Downloading package senseval to /root/nltk_data...\n",
            "[nltk_data]    |   Unzipping corpora/senseval.zip.\n",
            "[nltk_data]    | Downloading package sentence_polarity to\n",
            "[nltk_data]    |     /root/nltk_data...\n",
            "[nltk_data]    |   Unzipping corpora/sentence_polarity.zip.\n",
            "[nltk_data]    | Downloading package sentiwordnet to\n",
            "[nltk_data]    |     /root/nltk_data...\n",
            "[nltk_data]    |   Unzipping corpora/sentiwordnet.zip.\n",
            "[nltk_data]    | Downloading package shakespeare to /root/nltk_data...\n",
            "[nltk_data]    |   Unzipping corpora/shakespeare.zip.\n",
            "[nltk_data]    | Downloading package sinica_treebank to\n",
            "[nltk_data]    |     /root/nltk_data...\n",
            "[nltk_data]    |   Unzipping corpora/sinica_treebank.zip.\n",
            "[nltk_data]    | Downloading package smultron to /root/nltk_data...\n",
            "[nltk_data]    |   Unzipping corpora/smultron.zip.\n",
            "[nltk_data]    | Downloading package snowball_data to\n",
            "[nltk_data]    |     /root/nltk_data...\n",
            "[nltk_data]    | Downloading package spanish_grammars to\n",
            "[nltk_data]    |     /root/nltk_data...\n",
            "[nltk_data]    |   Unzipping grammars/spanish_grammars.zip.\n",
            "[nltk_data]    | Downloading package state_union to /root/nltk_data...\n",
            "[nltk_data]    |   Unzipping corpora/state_union.zip.\n",
            "[nltk_data]    | Downloading package stopwords to /root/nltk_data...\n",
            "[nltk_data]    |   Unzipping corpora/stopwords.zip.\n",
            "[nltk_data]    | Downloading package subjectivity to\n",
            "[nltk_data]    |     /root/nltk_data...\n",
            "[nltk_data]    |   Unzipping corpora/subjectivity.zip.\n",
            "[nltk_data]    | Downloading package swadesh to /root/nltk_data...\n",
            "[nltk_data]    |   Unzipping corpora/swadesh.zip.\n",
            "[nltk_data]    | Downloading package switchboard to /root/nltk_data...\n",
            "[nltk_data]    |   Unzipping corpora/switchboard.zip.\n",
            "[nltk_data]    | Downloading package tagsets to /root/nltk_data...\n",
            "[nltk_data]    |   Unzipping help/tagsets.zip.\n",
            "[nltk_data]    | Downloading package timit to /root/nltk_data...\n",
            "[nltk_data]    |   Unzipping corpora/timit.zip.\n",
            "[nltk_data]    | Downloading package toolbox to /root/nltk_data...\n",
            "[nltk_data]    |   Unzipping corpora/toolbox.zip.\n",
            "[nltk_data]    | Downloading package treebank to /root/nltk_data...\n",
            "[nltk_data]    |   Unzipping corpora/treebank.zip.\n",
            "[nltk_data]    | Downloading package twitter_samples to\n",
            "[nltk_data]    |     /root/nltk_data...\n",
            "[nltk_data]    |   Unzipping corpora/twitter_samples.zip.\n",
            "[nltk_data]    | Downloading package udhr to /root/nltk_data...\n",
            "[nltk_data]    |   Unzipping corpora/udhr.zip.\n",
            "[nltk_data]    | Downloading package udhr2 to /root/nltk_data...\n",
            "[nltk_data]    |   Unzipping corpora/udhr2.zip.\n",
            "[nltk_data]    | Downloading package unicode_samples to\n",
            "[nltk_data]    |     /root/nltk_data...\n",
            "[nltk_data]    |   Unzipping corpora/unicode_samples.zip.\n",
            "[nltk_data]    | Downloading package universal_tagset to\n",
            "[nltk_data]    |     /root/nltk_data...\n",
            "[nltk_data]    |   Unzipping taggers/universal_tagset.zip.\n",
            "[nltk_data]    | Downloading package universal_treebanks_v20 to\n",
            "[nltk_data]    |     /root/nltk_data...\n",
            "[nltk_data]    | Downloading package vader_lexicon to\n",
            "[nltk_data]    |     /root/nltk_data...\n",
            "[nltk_data]    | Downloading package verbnet to /root/nltk_data...\n",
            "[nltk_data]    |   Unzipping corpora/verbnet.zip.\n",
            "[nltk_data]    | Downloading package verbnet3 to /root/nltk_data...\n",
            "[nltk_data]    |   Unzipping corpora/verbnet3.zip.\n",
            "[nltk_data]    | Downloading package webtext to /root/nltk_data...\n",
            "[nltk_data]    |   Unzipping corpora/webtext.zip.\n",
            "[nltk_data]    | Downloading package wmt15_eval to /root/nltk_data...\n",
            "[nltk_data]    |   Unzipping models/wmt15_eval.zip.\n",
            "[nltk_data]    | Downloading package word2vec_sample to\n",
            "[nltk_data]    |     /root/nltk_data...\n",
            "[nltk_data]    |   Unzipping models/word2vec_sample.zip.\n",
            "[nltk_data]    | Downloading package wordnet to /root/nltk_data...\n",
            "[nltk_data]    | Downloading package wordnet2021 to /root/nltk_data...\n",
            "[nltk_data]    | Downloading package wordnet2022 to /root/nltk_data...\n",
            "[nltk_data]    |   Unzipping corpora/wordnet2022.zip.\n",
            "[nltk_data]    | Downloading package wordnet31 to /root/nltk_data...\n",
            "[nltk_data]    | Downloading package wordnet_ic to /root/nltk_data...\n",
            "[nltk_data]    |   Unzipping corpora/wordnet_ic.zip.\n",
            "[nltk_data]    | Downloading package words to /root/nltk_data...\n",
            "[nltk_data]    |   Unzipping corpora/words.zip.\n",
            "[nltk_data]    | Downloading package ycoe to /root/nltk_data...\n",
            "[nltk_data]    |   Unzipping corpora/ycoe.zip.\n",
            "[nltk_data]    | \n",
            "[nltk_data]  Done downloading collection all\n"
          ]
        },
        {
          "output_type": "execute_result",
          "data": {
            "text/plain": [
              "True"
            ]
          },
          "metadata": {},
          "execution_count": 3
        }
      ]
    },
    {
      "cell_type": "code",
      "source": [
        "import nltk\n",
        "nltk.download('stopwords')"
      ],
      "metadata": {
        "colab": {
          "base_uri": "https://localhost:8080/"
        },
        "id": "o1wnYg72v1B5",
        "outputId": "d0fc5aba-aa57-4946-96fa-9514d5a1563b"
      },
      "execution_count": null,
      "outputs": [
        {
          "output_type": "stream",
          "name": "stderr",
          "text": [
            "[nltk_data] Downloading package stopwords to /root/nltk_data...\n",
            "[nltk_data]   Unzipping corpora/stopwords.zip.\n"
          ]
        },
        {
          "output_type": "execute_result",
          "data": {
            "text/plain": [
              "True"
            ]
          },
          "metadata": {},
          "execution_count": 10
        }
      ]
    },
    {
      "cell_type": "code",
      "source": [
        "df_comb = pd.read_csv(\"/content/dis_sym_dataset_comb.csv\") #disease combination\n",
        "df_norm = pd.read_csv(\"/content/dis_sym_dataset_norm.csv\") #individual disease\n",
        "\n",
        "X = df_comb.iloc[:, 1:]\n",
        "Y = df_comb.iloc[:, 0:1]"
      ],
      "metadata": {
        "id": "gT4-6QgMx4g_"
      },
      "execution_count": null,
      "outputs": []
    },
    {
      "cell_type": "code",
      "source": [
        "from google.colab import drive\n",
        "drive.mount('/content/drive')"
      ],
      "metadata": {
        "colab": {
          "base_uri": "https://localhost:8080/"
        },
        "id": "NcNseOD4_x4a",
        "outputId": "d52f3fb5-38f1-4513-a521-fd86e797a58c"
      },
      "execution_count": null,
      "outputs": [
        {
          "output_type": "stream",
          "name": "stdout",
          "text": [
            "Mounted at /content/drive\n"
          ]
        }
      ]
    },
    {
      "cell_type": "code",
      "source": [],
      "metadata": {
        "id": "CIMos_0UzKbP"
      },
      "execution_count": null,
      "outputs": []
    },
    {
      "cell_type": "code",
      "source": [
        "# utlities for pre-processing\n",
        "import nltk\n",
        "from nltk.corpus import stopwords # import stopwords\n",
        "from nltk.stem import WordNetLemmatizer # import WordNetLemmatizer\n",
        "from nltk.tokenize import RegexpTokenizer # import RegexpTokenizer\n",
        "nltk.download('stopwords')\n",
        "stop_words = stopwords.words('english')\n",
        "lemmatizer = WordNetLemmatizer()\n",
        "splitter = RegexpTokenizer(r'\\w+')"
      ],
      "metadata": {
        "id": "Dq0gOzv6WCEC",
        "colab": {
          "base_uri": "https://localhost:8080/"
        },
        "outputId": "4c7b0d1e-7b73-4345-b018-84a36990d34c"
      },
      "execution_count": 6,
      "outputs": [
        {
          "output_type": "stream",
          "name": "stderr",
          "text": [
            "[nltk_data] Downloading package stopwords to /root/nltk_data...\n",
            "[nltk_data]   Package stopwords is already up-to-date!\n"
          ]
        }
      ]
    },
    {
      "cell_type": "markdown",
      "source": [],
      "metadata": {
        "id": "_8aPoehLiWOe"
      }
    },
    {
      "cell_type": "code",
      "source": [
        "# returns the lists of synonyms of the input words from wordnet\n",
        "def synonyms(terms):\n",
        "    synonyms = []\n",
        "    response = requests.get(''.format(terms))\n",
        "    soup = BeautifulSoap(response.content, \"html.parser\")\n",
        "    try:\n",
        "      container=soap.find('section',{'class':'MainContentContainer'})\n",
        "      row=container.find('div',{'class':'css-19115o0-ClassicCotentCard'})\n",
        "      row = row.find_all('li')\n",
        "      for x in row:\n",
        "        synonyms.append(x.get_text())\n",
        "    except:\n",
        "      None\n",
        "    for sys in wordnet.synsets(terms):\n",
        "        synonyms+=sys.lemma_names()\n",
        "    return set(synonyms)"
      ],
      "metadata": {
        "id": "LnGBDNc24WLr"
      },
      "execution_count": 7,
      "outputs": []
    },
    {
      "cell_type": "code",
      "source": [
        "import time #import the time module\n",
        "from collections import OrderedDict #import OrderedDict from collection\n",
        "\n",
        "t0 = time.time() # call the time() function from the time module\n",
        "total_symptoms = set() # Stores all unique symptoms\n",
        "disease_symptoms_cleaned = OrderedDict() # Key: disease, Value:[List of symptoms]"
      ],
      "metadata": {
        "id": "0xUHxsau0AQ5"
      },
      "execution_count": 11,
      "outputs": []
    },
    {
      "cell_type": "code",
      "source": [
        "\n",
        "import nltk\n",
        "nltk.download('wordnet')"
      ],
      "metadata": {
        "colab": {
          "base_uri": "https://localhost:8080/"
        },
        "id": "PbuoL4FeCFYM",
        "outputId": "f9c4121e-f46a-4eb6-ad1c-46804aa0e662"
      },
      "execution_count": 24,
      "outputs": [
        {
          "output_type": "stream",
          "name": "stderr",
          "text": [
            "[nltk_data] Downloading package wordnet to /root/nltk_data...\n"
          ]
        },
        {
          "output_type": "execute_result",
          "data": {
            "text/plain": [
              "True"
            ]
          },
          "metadata": {},
          "execution_count": 24
        }
      ]
    },
    {
      "cell_type": "code",
      "source": [
        "#iterate over all disease and preprocess sympthoms string and break it into individual symthom\n",
        "\n",
        "import re # Import the 're' module for regular expression operation\n",
        "dis_sym = {\"disease1\": \"symptom1, symptom2\", \"disease2\": \"symptom3, symptom4\"} # Replace with your actual disease-symptom dictionary\n",
        "english_stopwords = stopwords.words('english')\n",
        "for key in sorted(dis_sym.keys()):\n",
        "    value = dis_sym[key]\n",
        "    list_sym = re.sub(r\"\\[\\S+\\]\",\"\", value).lower().split(',')\n",
        "    temp_sym = list_sym\n",
        "    list_sym = []\n",
        "    for sym in temp_sym:\n",
        "      if len(sym.strip())>0:\n",
        "          list_sym.append(sym.strip())\n",
        "    # Remove 'none' from symthoms\n",
        "    if \"none\" in list_sym:\n",
        "       list_sym.remove(\"none\");\n",
        "    if len(list_sym)==0:\n",
        "        continue\n",
        "    temp = list()\n",
        "    for sym in list_sym:\n",
        "      sym=sym.replace('-',' ') # changed sym.sym to sym\n",
        "      sym=sym.replace(\"'\",'') # changed sym.sym to sym\n",
        "      sym = sym.replace('(', '')  # changed sym.sym to sym\n",
        "      sym = sym.replace(')', '')  # changed sym.sym to sym\n",
        "      # Use english_stopwords in the list comprehension\n",
        "      sym = ' '.join([lemmatizer.lemmatize(word) for word in splitter.tokenize(sym) if word not in english_stopwords and not word[0].isdigit()])\n",
        "      total_symptoms.add(sym)\n",
        "      temp.append(sym)\n",
        "    disease_symptoms_cleaned[key] = temp # Fix the typo here. change 'disease_symthoms_cleaned' to 'disease_symptoms_cleaned'"
      ],
      "metadata": {
        "id": "fALehmc6KRPe"
      },
      "execution_count": 26,
      "outputs": []
    },
    {
      "cell_type": "code",
      "source": [
        "total_symptoms=list(total_symptoms)\n",
        "total_symptoms.sort()\n",
        "print(len(total_symptoms))"
      ],
      "metadata": {
        "id": "-WACoYntoGSL",
        "colab": {
          "base_uri": "https://localhost:8080/"
        },
        "outputId": "b259e7e6-cd72-4f2e-af8b-d34a4fb71500"
      },
      "execution_count": 27,
      "outputs": [
        {
          "output_type": "stream",
          "name": "stdout",
          "text": [
            "4\n"
          ]
        }
      ]
    },
    {
      "cell_type": "code",
      "source": [
        "#store each sympthom's synopnyms as list of words\n",
        "from itertools import combinations # Import the combinations function\n",
        "from nltk.corpus import wordnet # import wordnet for synonyms\n",
        "\n",
        "\n",
        "def get_synonyms(word): # Define the get_synonyms function\n",
        "    synonyms = []\n",
        "    for syn in wordnet.synsets(word):\n",
        "      for lemma in syn.lemmas():\n",
        "        synonyms.append(lemma.name())\n",
        "    return synonyms\n",
        "\n",
        "sym_syn = dict()\n",
        "for s in total_symptoms:\n",
        "    symp=s.split()\n",
        "    str_sym=set()\n",
        "    for comb in range(1, len(symp)+1):\n",
        "      for subset in combinations(symp, comb):\n",
        "          subset=''.join(subset)\n",
        "          subset = get_synonyms(subset) # call the defined get_synonyms function\n",
        "          str_sym.update(subset)\n",
        "    str_sym.add(s)\n",
        "    str_sym = ' '.join(str_sym).replace('_',' ').lower()\n",
        "    str_sym = list(set(str_sym.split()))\n",
        "    str_sym.sort()\n",
        "    sym_syn[s] = str_sym\n",
        "#print(s,\":\",str_sym)\n",
        "print(\"Done!\")"
      ],
      "metadata": {
        "id": "U45VmfwPooIy",
        "colab": {
          "base_uri": "https://localhost:8080/"
        },
        "outputId": "72648449-7d09-46d2-98e5-808b00f23882"
      },
      "execution_count": 30,
      "outputs": [
        {
          "output_type": "stream",
          "name": "stdout",
          "text": [
            "Done!\n"
          ]
        }
      ]
    },
    {
      "cell_type": "code",
      "source": [
        "\n"
      ],
      "metadata": {
        "id": "PmdMYoE8j03N"
      },
      "execution_count": null,
      "outputs": []
    },
    {
      "cell_type": "code",
      "source": [
        "#for each sympthom pair in dataset, find score of their synonym list.\n",
        "#jaccard similarity is measure of how similar 2 set are based on the items present in both the sets\n",
        "#thresholding is type of image segementation, where we change the pixels of an image to make the image easier to analyze\n",
        "#if Jaccard>threshold, it means that those synonym are similar and one of them can be used in place of other\n",
        "total_symptoms = sorted(total_symptoms, key=len, reverse=True)\n",
        "symptom_match=dict()\n",
        "new_symptoms = set()\n",
        "for i,symi in enumerate(total_symptoms):\n",
        "    for j in range(i+1, len(total_symptoms)):\n",
        "        symj=total_symptoms[j]\n",
        "        syn_symi = set(sym_syn[symi])\n",
        "        syn_symj = set(sym_syn[symj])\n",
        "        jaccard = len(syn_symi.intersection(syn_symj))/len(syn_symi.union(syn_symj))\n",
        "        if jaccard>0.75:\n",
        "           print(symi,\"->\",symj)\n",
        "           # Store similiar symptoms in dictionary, replace symj with symi, so\n",
        "           # Sympto_match[symj] = symi\n",
        "           if symi in symptom_match.keys():\n",
        "               symptom_match[symj] = symptom_match[symi]\n",
        "           else:\n",
        "               symptom_match[symj] = symi\n",
        "new_symptoms = set(total_symptoms).difference(set(symptom_match.keys()))\n",
        "print(len(new_symptoms))\n",
        "\n",
        "#print(symptom_match)"
      ],
      "metadata": {
        "id": "uFRvTcxkujel",
        "colab": {
          "base_uri": "https://localhost:8080/"
        },
        "outputId": "31d745d0-07e6-4d6b-fb0d-7cc88abecd9b"
      },
      "execution_count": 33,
      "outputs": [
        {
          "output_type": "stream",
          "name": "stdout",
          "text": [
            "4\n"
          ]
        }
      ]
    },
    {
      "cell_type": "code",
      "source": [
        "# After removing similar symptoms, final lsit of symptoms is stores in new_symptoms\n",
        "total_symptoms = new_symptoms\n",
        "total_symptoms = list(total_symptoms)\n",
        "total_symptoms.sort()\n",
        "total_symptoms=['label_dis']+total_symptoms"
      ],
      "metadata": {
        "id": "qO3Kk7X9MXQA"
      },
      "execution_count": 34,
      "outputs": []
    },
    {
      "cell_type": "code",
      "source": [
        "#initialize two dataframes, one for normal dataset and one for combinational dataset\n",
        "!pip install pandas\n",
        "import pandas as pd # import the pandas library and give it the alias 'pd'\n",
        "df_comb = pd.DataFrame(columns=total_symptoms)\n",
        "df_norm = pd.DataFrame(columns=total_symptoms)"
      ],
      "metadata": {
        "id": "vr32bllMNSmo",
        "colab": {
          "base_uri": "https://localhost:8080/"
        },
        "outputId": "b6e48b67-1168-4e4a-9efc-5f23c7308e38"
      },
      "execution_count": 36,
      "outputs": [
        {
          "output_type": "stream",
          "name": "stdout",
          "text": [
            "Requirement already satisfied: pandas in /usr/local/lib/python3.10/dist-packages (2.0.3)\n",
            "Requirement already satisfied: python-dateutil>=2.8.2 in /usr/local/lib/python3.10/dist-packages (from pandas) (2.8.2)\n",
            "Requirement already satisfied: pytz>=2020.1 in /usr/local/lib/python3.10/dist-packages (from pandas) (2023.4)\n",
            "Requirement already satisfied: tzdata>=2022.1 in /usr/local/lib/python3.10/dist-packages (from pandas) (2024.1)\n",
            "Requirement already satisfied: numpy>=1.21.0 in /usr/local/lib/python3.10/dist-packages (from pandas) (1.25.2)\n",
            "Requirement already satisfied: six>=1.5 in /usr/local/lib/python3.10/dist-packages (from python-dateutil>=2.8.2->pandas) (1.16.0)\n"
          ]
        }
      ]
    },
    {
      "cell_type": "code",
      "source": [
        "#read each disease and symptom list, convert into dictionary and add to dataframe\n",
        "diseases_symptoms_cleaned = {'disease1': ['symptom1', 'symptom2'], 'disease2': ['symptom3']} # Define the dictionary\n",
        "for key, values in diseases_symptoms_cleaned.items():\n",
        "    key = str.encode(key).decode('utf-8')\n",
        "    tmp = []"
      ],
      "metadata": {
        "id": "ndKI-YSyOAGi"
      },
      "execution_count": 38,
      "outputs": []
    },
    {
      "cell_type": "code",
      "source": [
        "#for similar symptoms, replace with the value in dictionary\n",
        "for symptom in values:\n",
        "  if symptom in symptom_match.keys():\n",
        "      tmp.append(symptom_match[symptom])\n",
        "      # print(symptom)\n",
        "  else:\n",
        "      tmp.append(symptom)"
      ],
      "metadata": {
        "id": "OKa9NSYvO082"
      },
      "execution_count": 39,
      "outputs": []
    },
    {
      "cell_type": "code",
      "source": [
        "values = list(set(tmp))\n",
        "diseases_symptoms_cleaned[key] = values"
      ],
      "metadata": {
        "id": "8_Me9SL3PkUX"
      },
      "execution_count": 40,
      "outputs": []
    },
    {
      "cell_type": "code",
      "source": [
        "# Populate row for normal\n",
        "row_norm = dict({x:0 for x in total_symptoms})\n",
        "for sym in values:\n",
        "    row_norm[sym] = 1\n",
        "row_norm['label_dis']=key\n",
        "df_norm = pd.concat([df_norm, pd.DataFrame([row_norm])], ignore_index=True)\n"
      ],
      "metadata": {
        "id": "kBMyjNvIPylR"
      },
      "execution_count": 43,
      "outputs": []
    },
    {
      "cell_type": "code",
      "source": [
        "# Popular rows for combination dataset\n",
        "for comb in range(1, len(values) + 1):\n",
        "    for subset in combinations(values, comb):\n",
        "        row_comb = dict({x:0 for x in total_symptoms})\n",
        "        for sym in list(subset):\n",
        "            row_comb[sym]=1\n",
        "        row_comb['label_dis']=key\n",
        "        df_comb = pd.concat([df_comb,pd.DataFrame([row_comb])], ignore_index=True)"
      ],
      "metadata": {
        "id": "_bbtHq8tWZoH"
      },
      "execution_count": 46,
      "outputs": []
    },
    {
      "cell_type": "markdown",
      "source": [],
      "metadata": {
        "id": "II2g7hQ6LK3E"
      }
    }
  ]
}